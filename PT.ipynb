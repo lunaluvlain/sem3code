{
 "cells": [
  {
   "cell_type": "code",
   "execution_count": 86,
   "metadata": {},
   "outputs": [
    {
     "name": "stdout",
     "output_type": "stream",
     "text": [
      "  Date                                              Tweet\n",
      "0       Td ada banner gede di deretan pkl danau unesa....\n",
      "1       Nesa! Kkn iku harus beda prodi ta? Atau sak pr...\n",
      "2       Nesa! Alhamdulillah bersyukur bgt IPK sm 1 uda...\n",
      "3       nesa! maaf aku masih bingung maksudnya ngulang...\n",
      "4           Nesa! Terakhir proses SPK tanggal berapa ya ?\n"
     ]
    }
   ],
   "source": [
    "import pandas as pd\n",
    "import re\n",
    "\n",
    "# Load the CSV file\n",
    "file_path = 'data scraping.csv'  # Replace with your file path\n",
    "df = pd.read_csv(file_path)\n",
    "\n",
    "# Function to remove date and time with various formats\n",
    "def remove_date(text):\n",
    "    if isinstance(text, str):  # Only apply to text data\n",
    "        # Pattern to capture various date formats, including:\n",
    "        # - YYYY-MM-DD HH:MM:SS+00:00\n",
    "        # - YYYY/MM/DD\n",
    "        # - HH:MM:SS\n",
    "        # - Dates followed by commas or other characters\n",
    "        date_pattern = r'(\\d{4}[-/]\\d{2}[-/]\\d{2} \\d{2}:\\d{2}:\\d{2}\\+\\d{2}:\\d{2},?)|(\\d{4}[-/]\\d{2}[-/]\\d{2})|(\\d{2}:\\d{2}:\\d{2})'\n",
    "        cleaned_text = re.sub(date_pattern, '', text)\n",
    "        return cleaned_text.strip()  # Remove trailing whitespace\n",
    "    return text  # Return non-text data as is\n",
    "\n",
    "# Function to remove invalid characters directly\n",
    "def clean_invalid_chars(text):\n",
    "    if isinstance(text, str):  # Only apply to text data\n",
    "        cleaned_text = re.sub(r'[^\\x00-\\x7F]+', '', text)  # Remove non-ASCII characters\n",
    "        return cleaned_text\n",
    "    return text  # Return non-text data as is\n",
    "\n",
    "# Apply cleaning to all columns\n",
    "for col in df.columns:\n",
    "    df[col] = df[col].apply(remove_date).apply(clean_invalid_chars)\n",
    "\n",
    "print(df.head())\n"
   ]
  },
  {
   "cell_type": "code",
   "execution_count": 87,
   "metadata": {},
   "outputs": [],
   "source": [
    "def remove_urls(text):\n",
    "    if isinstance(text, str):  # Only apply to text data\n",
    "        # Improved URL pattern to capture more URL variations including quoted URLs\n",
    "        url_pattern = r'(http[s]?://\\S+|www\\.\\S+|\\S+\\.\\S+/\\S+)'  # Catch common and short URLs\n",
    "        cleaned_text = re.sub(url_pattern, '', text)\n",
    "        return cleaned_text.strip()  # Remove trailing whitespace\n",
    "    return text  # Return non-text data as is\n",
    "\n",
    "# Apply cleaning to all columns\n",
    "for col in df.columns:\n",
    "    df[col] = df[col].apply(remove_date).apply(clean_invalid_chars).apply(remove_urls)\n",
    "\n",
    "\n",
    "output_file_path = 'cleaned_file.csv'  # Replace with your desired output path\n",
    "df.to_csv(output_file_path, index=False)\n"
   ]
  },
  {
   "cell_type": "code",
   "execution_count": 88,
   "metadata": {},
   "outputs": [
    {
     "name": "stdout",
     "output_type": "stream",
     "text": [
      "  Date                                              Tweet\n",
      "0       Td ada banner gede di deretan pkl danau unesa ...\n",
      "1       Nesa Kkn iku harus beda prodi ta Atau sak prod...\n",
      "2       Nesa Alhamdulillah bersyukur bgt IPK sm 1 udah...\n",
      "3       nesa maaf aku masih bingung maksudnya ngulang ...\n",
      "4             Nesa Terakhir proses SPK tanggal berapa ya \n"
     ]
    }
   ],
   "source": [
    "import string\n",
    "import re\n",
    "punctuation_pattern = r'[{}]'.format(re.escape(string.punctuation))\n",
    "\n",
    "# Step 3: Remove punctuation from all columns\n",
    "df = df.replace(punctuation_pattern, '', regex=True)\n",
    "output_file_path = 'cleaned_file.csv'  # Replace with your desired output path\n",
    "df.to_csv(output_file_path, index=False)\n",
    "print(df.head())"
   ]
  },
  {
   "cell_type": "code",
   "execution_count": 89,
   "metadata": {},
   "outputs": [
    {
     "name": "stdout",
     "output_type": "stream",
     "text": [
      "Data sebelum penghapusan emoji:\n",
      "     Date                                              Tweet\n",
      "0          Td ada banner gede di deretan pkl danau unesa ...\n",
      "1          Nesa Kkn iku harus beda prodi ta Atau sak prod...\n",
      "2          Nesa Alhamdulillah bersyukur bgt IPK sm 1 udah...\n",
      "3          nesa maaf aku masih bingung maksudnya ngulang ...\n",
      "4                Nesa Terakhir proses SPK tanggal berapa ya \n",
      "...   ...                                                ...\n",
      "6421       ptn pil1 sosiologi unesa saran dong pil2 nya y...\n",
      "6422       Ptn \\n1 sasing UNPAD\\n2 sasing UNESA\\n\\nATAU\\n...\n",
      "6423                     Unesa knpsi gadiadain wisuda ha hft\n",
      "6424                        nesa Assalamualaikum warga unesa\n",
      "6425       dengerin lagu2 mas pam sekarang jadi kerasa vi...\n",
      "\n",
      "[6426 rows x 2 columns]\n",
      "\n",
      "Data setelah penghapusan emoji:\n",
      "     Date                                              Tweet\n",
      "0          Td ada banner gede di deretan pkl danau unesa ...\n",
      "1          Nesa Kkn iku harus beda prodi ta Atau sak prod...\n",
      "2          Nesa Alhamdulillah bersyukur bgt IPK sm 1 udah...\n",
      "3          nesa maaf aku masih bingung maksudnya ngulang ...\n",
      "4                Nesa Terakhir proses SPK tanggal berapa ya \n",
      "...   ...                                                ...\n",
      "6421       ptn pil1 sosiologi unesa saran dong pil2 nya y...\n",
      "6422       Ptn \\n1 sasing UNPAD\\n2 sasing UNESA\\n\\nATAU\\n...\n",
      "6423                     Unesa knpsi gadiadain wisuda ha hft\n",
      "6424                        nesa Assalamualaikum warga unesa\n",
      "6425       dengerin lagu2 mas pam sekarang jadi kerasa vi...\n",
      "\n",
      "[6426 rows x 2 columns]\n"
     ]
    }
   ],
   "source": [
    "\n",
    "\n",
    "# Fungsi untuk menghapus emoji\n",
    "def remove_emoji(string):\n",
    "    # Menentukan pola untuk semua emoji\n",
    "    emoji_pattern = re.compile(\"[\"\n",
    "        u\"\\U0001F600-\\U0001F64F\"  # emoticons\n",
    "        u\"\\U0001F300-\\U0001F5FF\"  # symbols & pictographs\n",
    "        u\"\\U0001F680-\\U0001F6FF\"  # transport & map symbols\n",
    "        u\"\\U0001F1E0-\\U0001F1FF\"  # flags (iOS)\n",
    "        u\"\\U00002702-\\U000027B0\"  # miscellaneous symbols\n",
    "        u\"\\U000024C2-\\U0001F251\"  # enclosed characters\n",
    "        u\"\\U0001F900-\\U0001F9FF\"  # supplemental symbols and pictographs\n",
    "        u\"\\U0001FA00-\\U0001FAFF\"  # chess symbols and other additional emojis\n",
    "        u\"\\U0001F1F2-\\U0001F1F3\"  # China flag\n",
    "        u\"\\U0001F1E6-\\U0001F1FF\"  # Regional indicator symbols\n",
    "        \"]+\", flags=re.UNICODE)\n",
    "    return emoji_pattern.sub(r'', string)\n",
    "\n",
    "# Membaca data dari file CSV\n",
    "#\n",
    "\n",
    "# Menampilkan DataFrame sebelum penghapusan emoji\n",
    "print(\"Data sebelum penghapusan emoji:\")\n",
    "print(df)\n",
    "\n",
    "# Menghapus emoji dari kolom 'tweet'\n",
    "df['Tweet'] = df['Tweet'].apply(remove_emoji)\n",
    "\n",
    "# Menampilkan DataFrame setelah penghapusan emoji\n",
    "print(\"\\nData setelah penghapusan emoji:\")\n",
    "print(df)\n",
    "\n",
    "# Menyimpan hasil ke file CSV baru\n",
    "# Ganti 'cleaned_tweets.csv' dengan nama file yang diinginkan\n",
    "df.to_csv('cleaned_file.csv', index=False)"
   ]
  },
  {
   "cell_type": "code",
   "execution_count": 92,
   "metadata": {},
   "outputs": [],
   "source": [
    "df = df.apply(lambda col: col.map(lambda x: x.lower() if isinstance(x, str) else x))\n",
    "\n",
    "df.to_csv('cleaned_file.csv', index=False)"
   ]
  }
 ],
 "metadata": {
  "kernelspec": {
   "display_name": "Python 3",
   "language": "python",
   "name": "python3"
  },
  "language_info": {
   "codemirror_mode": {
    "name": "ipython",
    "version": 3
   },
   "file_extension": ".py",
   "mimetype": "text/x-python",
   "name": "python",
   "nbconvert_exporter": "python",
   "pygments_lexer": "ipython3",
   "version": "3.11.4"
  }
 },
 "nbformat": 4,
 "nbformat_minor": 2
}
